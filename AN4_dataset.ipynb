{
 "cells": [
  {
   "cell_type": "code",
   "execution_count": 1,
   "metadata": {},
   "outputs": [
    {
     "name": "stdout",
     "output_type": "stream",
     "text": [
      "tb 2019-02-03 \n",
      "\n",
      "CPython 3.6.4\n",
      "IPython 6.2.1\n",
      "\n",
      "sys 3.6.4 |Anaconda custom (64-bit)| (default, Jan 16 2018, 12:04:33) \n",
      "[GCC 4.2.1 Compatible Clang 4.0.1 (tags/RELEASE_401/final)]\n",
      "numpy 1.14.2\n",
      "pandas 0.22.0\n",
      "sklearn 0.19.2\n",
      "torch 1.0.0a0+1e45e7a\n",
      "IPython 6.2.1\n",
      "\n",
      "compiler   : GCC 4.2.1 Compatible Clang 4.0.1 (tags/RELEASE_401/final)\n",
      "system     : Darwin\n",
      "release    : 17.5.0\n",
      "machine    : x86_64\n",
      "processor  : i386\n",
      "CPU cores  : 24\n",
      "interpreter: 64bit\n",
      "GPU Name: TITAN Xp\n",
      "GPU Memory: 12.0GB\n",
      "CUDA Version: (9, 1, 0)\n",
      "GPU Free/Total Memory: 98%\n"
     ]
    }
   ],
   "source": [
    "%matplotlib inline\n",
    "import matplotlib.pyplot as plt\n",
    "\n",
    "from tqdm import tqdm_notebook\n",
    "\n",
    "import os\n",
    "import random\n",
    "import numpy as np\n",
    "import math\n",
    "from datetime import datetime\n",
    "\n",
    "import torch\n",
    "import torch.nn as nn\n",
    "from torch.autograd import Variable\n",
    "from torch import optim\n",
    "import torchvision.transforms as transforms\n",
    "\n",
    "from lib.datasets.an4 import create_manifest, create_pseudo_manifest\n",
    "from lib.vocabulary import Vocabulary\n",
    "from lib.dataloader.audio import AudioDataset, BucketingSampler, collate_fn, DummyDataset, dummy_collate_fn\n",
    "from lib.transforms.general import FromNumpyToTensor, TranscriptEncodeCTC\n",
    "from lib.transforms.audio import AudioSpectrogram, AudioNoiseInjection, AudioNoiseGeneration, \\\n",
    "                                 AudioNormalizeDB, AudioNormalize, AudioPitchShift, AudioTimeStrech, \\\n",
    "                                 AudioDynamicRange, AudioTimeShift, AudioNoiseGeneration, AudioAugmentation\n",
    "from lib.models.deepspeech2 import DeepSpeech2\n",
    "from lib.trainer import Trainer\n",
    "from lib.evaluator import Evaluator\n",
    "from lib.recognizer import Recognizer\n",
    "from lib.scorer import Scorer\n",
    "from lib.decoder import CTCGreedyDecoder, CTCBeamSearchDecoder\n",
    "from lib.loss import PytorchCTCLoss\n",
    "from lib.trainlogger import *\n",
    "from lib.stopping import *\n",
    "from lib.checkpoint import *\n",
    "from lib.utilities import *\n",
    "from lib.tools import *\n",
    "\n",
    "\n",
    "%load_ext watermark\n",
    "%watermark -a \"tb\" -d -v -m -p sys,numpy,pandas,sklearn,torch,IPython\n",
    "gpu_stat()"
   ]
  },
  {
   "cell_type": "code",
   "execution_count": 2,
   "metadata": {},
   "outputs": [],
   "source": [
    "H = HYPERPARAMETERS({\n",
    "    'EXPERIMENT'                    : 'AN4',\n",
    "    'DESCRIPTION'                   : 'Deepspeech2 model ',\n",
    "    'TIMESTAMP'                     : HYPERPARAMETERS.create_timestamp() ,\n",
    "    \n",
    "    'MODEL_NAME'                    : 'AN4_CTC_deepspeech2_with_augmentation',\n",
    "    \n",
    "    'PRELOAD_MODEL_PATH'            : 'AN4_CTC_deepspeech2_no_augmentation.tar',\n",
    "    \n",
    "    'ROOT_DIR'                      : 'data',\n",
    "    'MANIFESTS'                     : ['manifest.json'], #, 'manifest_pseudo.json'],\n",
    "\n",
    "    'BATCH_SIZE'                    : 20,\n",
    "    'NUM_WORKERS'                   : 4,\n",
    "        \n",
    "    'RNN_HIDDEN_SIZE'               : 800,\n",
    "    'NUM_LAYERS'                    : 5,\n",
    "    'RNN_DROPOUT'                   : 0.5,\n",
    "    'CNN_DROPOUT'                   : 0.5,\n",
    "    'BIDIRECTIONAL'                 : True ,\n",
    "\n",
    "    'LR'                            : 0.0006,\n",
    "    'LR_LAMBDA'                     : lambda epoch: max(math.pow(0.78, math.floor((1 + epoch) / 200.0)), 0.01), \n",
    "    'WEIGHT_DECAY'                  : 0, \n",
    "    'MOMENTUM'                      : 0.9 ,\n",
    "    'NESTEROV'                      : True ,\n",
    "    \n",
    "    'MAX_GRAD_NORM'                 : 400,\n",
    "    \n",
    "    'NUM_EPOCHS'                    : 200,\n",
    "    \n",
    "    'STOPPING_PATIENCE'             : 80,\n",
    "    \n",
    "    'CHECKPOINT_INTERVAL'           : 140 ,\n",
    "    'CHECKPOINT_RESTORE'            : False ,\n",
    "    \n",
    "    'USE_CUDA'                      : torch.cuda.is_available(),\n",
    "        \n",
    "    'SEED'                          : 123456,\n",
    "\n",
    "    'DATASET_MEAN_STD'              : (0.060487103, 0.16884679),\n",
    "\n",
    "    'NORMALIZE_DB'                  : -40,\n",
    "    'NORMALIZE_MAX_GAIN'            : 300,\n",
    "\n",
    "    'MIN_MAX_AUDIO_DURATION'        : None, # (1, 15),\n",
    "    'MIN_MAX_TRANSCRIPT_LEN'        : None, # (3, 60),\n",
    "    'MIN_TRANSCRIPT_CONFIDENCE'     : None, # 0.92,\n",
    "    \n",
    "    'AUDIO_SAMPLE_RATE'             : 16000,\n",
    "\n",
    "    'SPECT_WINDOW_SIZE'             : 0.02,\n",
    "    'SPECT_WINDOW_STRIDE'           : 0.01,\n",
    "    'SPECT_WINDOW'                  : 'hamming',\n",
    "    \n",
    "    'AUGMENTATION_PROBABILITY'      : 0.6,\n",
    "\n",
    "    'NOISE_BG_PROBABILITY'          : 0.4,\n",
    "    'NOISE_BG_LEVELS'               : (0.0, 0.5),\n",
    "    'NOISE_BG_DIR'                  : '/Volumes/SSD1/BACKGROUND_NOISE',\n",
    "  \n",
    "    'AUDIO_PITCH_PROBABILITY'       : 0.4,\n",
    "    'AUDIO_PITCH_PM'                : 4,     \n",
    "    \n",
    "    'AUDIO_SPEED_PROBABILITY'       : 0.4,\n",
    "    'AUDIO_SPEED_LOW_HIGH'          : (0.9, 1.1),    \n",
    "    \n",
    "    'AUDIO_DYNAMIC_PROBABILITY'     : 0.4,\n",
    "    'AUDIO_DYNAMIC_LOW_HIGH'        : (0.5, 1.1),    \n",
    "    \n",
    "    'AUDIO_SHIFT_PROBABILITY'       : 0.4,\n",
    "    'AUDIO_SHIFT_MIN_MAX'           : (-5, 5),    \n",
    "    \n",
    "    'AUDIO_NOISE_PROBABILITY'       : 0.4,\n",
    "    'AUDIO_NOISE_LEVELS'            : (0.0, 0.5),\n",
    "    'AUDIO_NOISE_COLORS'            : ['white', 'pink', 'blue', 'brown', 'violet'],\n",
    "})\n",
    "\n",
    "if not os.path.exists(H.EXPERIMENT):\n",
    "        os.makedirs(H.EXPERIMENT)      \n",
    "H.pprint(os.path.join(H.EXPERIMENT, H.MODEL_NAME + \".txt\"))"
   ]
  },
  {
   "cell_type": "code",
   "execution_count": 3,
   "metadata": {},
   "outputs": [],
   "source": [
    "#torch.cuda.is_available = lambda : False\n",
    "#torch.backends.cudnn.enabled=False\n",
    "torch.backends.cudnn.deterministic = True\n",
    "#torch.backends.cudnn.benchmark = True\n",
    "\n",
    "random.seed(H.SEED)\n",
    "np.random.seed(H.SEED)\n",
    "torch.manual_seed(H.SEED)\n",
    "if torch.cuda.is_available():\n",
    "    torch.cuda.manual_seed(H.SEED)\n",
    "    torch.cuda.manual_seed_all(H.SEED)"
   ]
  },
  {
   "cell_type": "code",
   "execution_count": 4,
   "metadata": {},
   "outputs": [],
   "source": [
    "import librosa.display\n",
    "\n",
    "def plot_wave(data, sr):\n",
    "    plt.figure(figsize=(14, 5))\n",
    "    plt.title('Time Domain (raw)')\n",
    "    plt.ylabel('Amplitude')\n",
    "\n",
    "    librosa.display.waveplot(data, sr=sr);\n",
    "\n",
    "def load_transcript(path):\n",
    "    with open(path, 'r', encoding='utf8') as f:\n",
    "        transcript = f.read().strip()\n",
    "    return transcript\n",
    "\n",
    "def load_audio(path, sr):\n",
    "        from scipy.io import wavfile\n",
    "        fs, data = wavfile.read(path)\n",
    "\n",
    "        assert fs == sr, \"File sampling rate doesn't match manifest.\"\n",
    "        assert data.dtype.name == 'int16', \"Required by normalization\"\n",
    "        assert len(data.shape) == 1, \"multiple channels wav files not supported\"\n",
    "\n",
    "        data = np.asarray(data, dtype='float32') / np.iinfo(np.dtype('int16')).min  # normalization\n",
    "\n",
    "        return data"
   ]
  },
  {
   "cell_type": "code",
   "execution_count": 5,
   "metadata": {},
   "outputs": [],
   "source": [
    "AudioNoiseInjection.create_manifest(H.NOISE_BG_DIR, sr=H.AUDIO_SAMPLE_RATE, verbose=1)"
   ]
  },
  {
   "cell_type": "code",
   "execution_count": 6,
   "metadata": {
    "scrolled": false
   },
   "outputs": [],
   "source": [
    "create_manifest(root_path='./data/AN4',\n",
    "                manifest_file='manifest.json',\n",
    "                url='http://www.speech.cs.cmu.edu/databases/an4/an4_raw.bigendian.tar.gz',\n",
    "                verbose=1)"
   ]
  },
  {
   "cell_type": "code",
   "execution_count": 7,
   "metadata": {},
   "outputs": [],
   "source": [
    "transform = transforms.Compose([\n",
    "    AudioSpectrogram(sample_rate=H.AUDIO_SAMPLE_RATE, window_size=H.SPECT_WINDOW_SIZE, \n",
    "                     window_stride=H.SPECT_WINDOW_STRIDE, window=H.SPECT_WINDOW),\n",
    "])\n",
    "\n",
    "dataset = AudioDataset(os.path.join(H.ROOT_DIR, H.EXPERIMENT), manifests_files=H.MANIFESTS, datasets=[\"train\", \"test\"])"
   ]
  },
  {
   "cell_type": "code",
   "execution_count": 8,
   "metadata": {},
   "outputs": [
    {
     "data": {
      "text/plain": [
       "(0.060487103, 0.16884679)"
      ]
     },
     "execution_count": 8,
     "metadata": {},
     "output_type": "execute_result"
    }
   ],
   "source": [
    "_mean, _std = AudioNormalize.compute_mean_std(dataset, transform, datasets=[\"test\"], samples=None)\n",
    "\n",
    "_mean, _std"
   ]
  },
  {
   "cell_type": "code",
   "execution_count": 9,
   "metadata": {},
   "outputs": [
    {
     "data": {
      "text/plain": [
       "(-47.66678810119629, -22.44837999343872, -30.84806500607905)"
      ]
     },
     "execution_count": 9,
     "metadata": {},
     "output_type": "execute_result"
    }
   ],
   "source": [
    "min_rms, max_rms, mean_rms = AudioNormalizeDB.compute_rms_db(dataset, datasets=['train'], samples=None)\n",
    "\n",
    "min_rms, max_rms, mean_rms"
   ]
  },
  {
   "cell_type": "code",
   "execution_count": 10,
   "metadata": {},
   "outputs": [],
   "source": [
    "# vocab = Vocabulary(os.path.join(H.ROOT_DIR, H.EXPERIMENT), encoding=\"ctc\")\n",
    "\n",
    "# vocab.create(\"_'ABCDEFGHIJKLMNOPQRSTUVWXYZ \")\n",
    "# vocab.dump()"
   ]
  },
  {
   "cell_type": "code",
   "execution_count": 11,
   "metadata": {},
   "outputs": [
    {
     "name": "stdout",
     "output_type": "stream",
     "text": [
      "->_'ABCDEFGHIJKLMNOPQRSTUVWXYZ <- 29\n"
     ]
    }
   ],
   "source": [
    "vocab = Vocabulary(os.path.join(H.ROOT_DIR, H.EXPERIMENT), encoding=\"ctc\")\n",
    "\n",
    "print('->'+str(vocab)+'<-', len(vocab))"
   ]
  },
  {
   "cell_type": "code",
   "execution_count": 12,
   "metadata": {},
   "outputs": [],
   "source": [
    "audio_transform_train = transforms.Compose([\n",
    "#                 AudioNoiseInjection( probability=H.NOISE_BG_PROBABILITY, \n",
    "#                                      noise_levels=H.NOISE_BG_LEVELS, \n",
    "#                                      noise_dir=H.NOISE_BG_DIR),\n",
    "#                 AudioPitchShift( probability=H.AUDIO_PITCH_PROBABILITY,\n",
    "#                                  sample_rate=H.AUDIO_SAMPLE_RATE,\n",
    "#                                  pitch_pm=H.AUDIO_PITCH_PM),\n",
    "#                 AudioTimeStrech( probability=H.AUDIO_SPEED_PROBABILITY,\n",
    "#                                  low_high=H.AUDIO_SPEED_LOW_HIGH),\n",
    "#                 AudioDynamicRange( probability=H.AUDIO_DYNAMIC_PROBABILITY,\n",
    "#                                    low_high=H.AUDIO_DYNAMIC_LOW_HIGH),\n",
    "#                 AudioShiftTime( probability=H.AUDIO_SHIFT_PROBABILITY,\n",
    "#                                 percent=H.AUDIO_SHIFT_PERCENT),\n",
    "#                 AudioNoiseGeneration( probability=H.AUDIO_NOISE_PROBABILITY,\n",
    "#                                       noise_levels=H.AUDIO_NOISE_LEVELS,\n",
    "#                                       noise_colors=H.AUDIO_NOISE_COLORS),\n",
    "#                 AudioNormalizeDB(db=H.NORMALIZE_DB, \n",
    "#                                  max_gain_db=H.NORMALIZE_MAX_GAIN),\n",
    "                AudioSpectrogram(sample_rate=H.AUDIO_SAMPLE_RATE, \n",
    "                                 window_size=H.SPECT_WINDOW_SIZE, \n",
    "                                 window_stride=H.SPECT_WINDOW_STRIDE, \n",
    "                                 window=H.SPECT_WINDOW),\n",
    "                AudioNormalize(),\n",
    "                FromNumpyToTensor(tensor_type=torch.FloatTensor)\n",
    "                ])\n",
    "\n",
    "audio_transform = transforms.Compose([\n",
    "                AudioNormalizeDB(db=H.NORMALIZE_DB, \n",
    "                                 max_gain_db=H.NORMALIZE_MAX_GAIN),\n",
    "                AudioSpectrogram(sample_rate=H.AUDIO_SAMPLE_RATE, \n",
    "                                 window_size=H.SPECT_WINDOW_SIZE, \n",
    "                                 window_stride=H.SPECT_WINDOW_STRIDE,\n",
    "                                 window=H.SPECT_WINDOW),\n",
    "                AudioNormalize(),\n",
    "                FromNumpyToTensor(tensor_type=torch.FloatTensor)\n",
    "                ])\n",
    "\n",
    "label_transform = transforms.Compose([\n",
    "                TranscriptEncodeCTC(vocab),\n",
    "                FromNumpyToTensor(tensor_type=torch.LongTensor)\n",
    "                ])"
   ]
  },
  {
   "cell_type": "code",
   "execution_count": 13,
   "metadata": {},
   "outputs": [
    {
     "data": {
      "text/plain": [
       "(AudioDataset\n",
       "     Total of datapoints: 948\n",
       "     Total of duration (min): 42.438333333333425\n",
       "     Root Location: data/AN4\n",
       "     Transforms: \n",
       "         AudioSpectrogram(sample_rate=16000, window_size=0.02, window_stride=0.01, window=hamming)\n",
       "         AudioNormalize(mean=None, std=None)\n",
       "         FromNumpyToTensor(tensor_type=FloatTensor)\n",
       "     Label Transforms: \n",
       "         TranscriptEncodeCTC(vocab=_'ABCDEFGHIJKLMNOPQRSTUVWXYZ )\n",
       "         FromNumpyToTensor(tensor_type=LongTensor), 48)"
      ]
     },
     "execution_count": 13,
     "metadata": {},
     "output_type": "execute_result"
    }
   ],
   "source": [
    "train_dataset = AudioDataset(os.path.join(H.ROOT_DIR, H.EXPERIMENT), \n",
    "                             manifests_files=H.MANIFESTS, \n",
    "                             datasets=\"train\", \n",
    "                             transform=audio_transform_train, \n",
    "                             label_transform=label_transform, \n",
    "                             max_data_size=None, \n",
    "                             sorted_by='recording_duration',\n",
    "                             min_max_duration=H.MIN_MAX_AUDIO_DURATION, \n",
    "                             min_max_length=H.MIN_MAX_TRANSCRIPT_LEN, \n",
    "                             min_confidence=H.MIN_TRANSCRIPT_CONFIDENCE)\n",
    "\n",
    "train_sampler = BucketingSampler(train_dataset, batch_size=H.BATCH_SIZE)\n",
    "train_loader = torch.utils.data.DataLoader( \n",
    "    train_dataset, num_workers=H.NUM_WORKERS, batch_sampler=train_sampler, collate_fn=collate_fn, pin_memory=True)\n",
    "\n",
    "train_dataset, len(train_loader)"
   ]
  },
  {
   "cell_type": "code",
   "execution_count": 14,
   "metadata": {},
   "outputs": [
    {
     "name": "stdout",
     "output_type": "stream",
     "text": [
      "CPU times: user 3 µs, sys: 1e+03 ns, total: 4 µs\n",
      "Wall time: 22.9 µs\n"
     ]
    }
   ],
   "source": [
    "%time\n",
    "for idx, (input_vars, label_vars, input_sizes_cpu, label_sizes_cpu, indexes) in enumerate(train_loader):\n",
    "    input_vars_cpu = input_vars.cpu()\n",
    "    label_vars_cpu = label_vars.cpu()\n",
    "    break"
   ]
  },
  {
   "cell_type": "code",
   "execution_count": 15,
   "metadata": {},
   "outputs": [
    {
     "data": {
      "text/plain": [
       "'NO____'"
      ]
     },
     "execution_count": 15,
     "metadata": {},
     "output_type": "execute_result"
    }
   ],
   "source": [
    "''.join([vocab(t.item()) for t in label_vars_cpu[0]])"
   ]
  },
  {
   "cell_type": "code",
   "execution_count": 16,
   "metadata": {},
   "outputs": [
    {
     "data": {
      "text/plain": [
       "'NO'"
      ]
     },
     "execution_count": 16,
     "metadata": {},
     "output_type": "execute_result"
    }
   ],
   "source": [
    "load_transcript(train_dataset.manifest[indexes[0]]['transcript_path'])"
   ]
  },
  {
   "cell_type": "code",
   "execution_count": 17,
   "metadata": {},
   "outputs": [],
   "source": [
    "sr = H.AUDIO_SAMPLE_RATE\n",
    "data = load_audio(train_dataset.manifest[indexes[0]]['recording_path'], sr)"
   ]
  },
  {
   "cell_type": "code",
   "execution_count": 18,
   "metadata": {},
   "outputs": [
    {
     "name": "stdout",
     "output_type": "stream",
     "text": [
      "<class 'numpy.ndarray'> (12800,) 12800 16000\n"
     ]
    },
    {
     "data": {
      "image/png": "[encoded data removed]",
      "text/plain": [
       "<matplotlib.figure.Figure at 0x1cb4b26ac8>"
      ]
     },
     "metadata": {},
     "output_type": "display_data"
    }
   ],
   "source": [
    "from scipy.io import wavfile\n",
    "\n",
    "plot_wave(data, sr)\n",
    "\n",
    "print(type(data), data.shape, len(data), sr)\n",
    "\n",
    "import IPython.display as ipd\n",
    "ipd.Audio(data, rate=sr);"
   ]
  },
  {
   "cell_type": "code",
   "execution_count": 19,
   "metadata": {},
   "outputs": [],
   "source": [
    "durations = sorted([entry['recording_duration'] for entry in train_dataset.manifest], reverse=True)"
   ]
  },
  {
   "cell_type": "code",
   "execution_count": 20,
   "metadata": {},
   "outputs": [
    {
     "data": {
      "image/png": "[encoded data removed]",
      "text/plain": [
       "<matplotlib.figure.Figure at 0x1062ba438>"
      ]
     },
     "metadata": {},
     "output_type": "display_data"
    }
   ],
   "source": [
    "import math\n",
    "\n",
    "binwidth = 0.1\n",
    "bins = np.arange(min(durations), max(durations) + binwidth, binwidth)\n",
    "\n",
    "fig = plt.figure(figsize=(15, 6))\n",
    "ax = fig.add_subplot(1, 1, 1)\n",
    "ax.set_xticks(bins)\n",
    "\n",
    "\n",
    "ax = plt.hist(durations, bins=bins)\n",
    "\n",
    "\n",
    "plt.xlabel('Duration')\n",
    "plt.ylabel('Frequency')\n",
    "plt.title(\"Audio Duration Distribution\")\n",
    "plt.xticks(rotation=90)\n",
    "plt.grid(True);"
   ]
  },
  {
   "cell_type": "code",
   "execution_count": 21,
   "metadata": {},
   "outputs": [],
   "source": [
    "lengths = sorted([entry['transcript_length'] for entry in train_dataset.manifest], reverse=True)"
   ]
  },
  {
   "cell_type": "code",
   "execution_count": 22,
   "metadata": {},
   "outputs": [
    {
     "data": {
      "image/png": "[encoded data removed]",
      "text/plain": [
       "<matplotlib.figure.Figure at 0x1cc843e7b8>"
      ]
     },
     "metadata": {},
     "output_type": "display_data"
    }
   ],
   "source": [
    "import math\n",
    "\n",
    "binwidth = 1\n",
    "bins = np.arange(min(lengths), max(lengths) + binwidth, binwidth)\n",
    "\n",
    "fig = plt.figure(figsize=(15, 6))\n",
    "ax = fig.add_subplot(1, 1, 1)\n",
    "ax.set_xticks(bins)\n",
    "\n",
    "ax = plt.hist(lengths, bins=bins)\n",
    "\n",
    "plt.xlabel('Length')\n",
    "plt.ylabel('Frequency')\n",
    "plt.title(\"Transcript Length Distribution\")\n",
    "plt.xticks(rotation=90)\n",
    "plt.grid(True);"
   ]
  },
  {
   "cell_type": "code",
   "execution_count": 23,
   "metadata": {},
   "outputs": [],
   "source": [
    "confidence = sorted([entry['transcript_confidence'] for entry in train_dataset.manifest], reverse=True)"
   ]
  },
  {
   "cell_type": "code",
   "execution_count": 24,
   "metadata": {},
   "outputs": [
    {
     "data": {
      "image/png": "[encoded data removed]",
      "text/plain": [
       "<matplotlib.figure.Figure at 0x1062ba080>"
      ]
     },
     "metadata": {},
     "output_type": "display_data"
    }
   ],
   "source": [
    "import math\n",
    "\n",
    "fig = plt.figure(figsize=(15, 6))\n",
    "ax = fig.add_subplot(1, 1, 1)\n",
    "\n",
    "ax = plt.hist(confidence)\n",
    "\n",
    "plt.xlabel('Confidence')\n",
    "plt.ylabel('Frequency')\n",
    "plt.title(\"Transcript Confidence Distribution\")\n",
    "plt.xticks(rotation=90)\n",
    "plt.grid(True);"
   ]
  },
  {
   "cell_type": "code",
   "execution_count": 25,
   "metadata": {},
   "outputs": [
    {
     "ename": "ZeroDivisionError",
     "evalue": "division by zero",
     "output_type": "error",
     "traceback": [
      "\u001b[0;31m---------------------------------------------------------------------------\u001b[0m",
      "\u001b[0;31mZeroDivisionError\u001b[0m                         Traceback (most recent call last)",
      "\u001b[0;32m<ipython-input-25-9e1622b385b6>\u001b[0m in \u001b[0;36m<module>\u001b[0;34m()\u001b[0m\n\u001b[0;32m----> 1\u001b[0;31m \u001b[0;36m1\u001b[0m\u001b[0;34m/\u001b[0m\u001b[0;36m0\u001b[0m\u001b[0;34m\u001b[0m\u001b[0m\n\u001b[0m",
      "\u001b[0;31mZeroDivisionError\u001b[0m: division by zero"
     ]
    }
   ],
   "source": [
    "1/0"
   ]
  },
  {
   "cell_type": "code",
   "execution_count": null,
   "metadata": {},
   "outputs": [],
   "source": [
    "model_pred = DeepSpeech2(len(vocab), rnn_hidden_size=H.RNN_HIDDEN_SIZE, nb_layers=H.NUM_LAYERS, \n",
    "                         bidirectional=H.BIDIRECTIONAL, cnn_dropout=H.CNN_DROPOUT, rnn_dropout=H.RNN_DROPOUT, \n",
    "                         sample_rate=H.AUDIO_SAMPLE_RATE, window_size=H.SPECT_WINDOW_SIZE, initialize=torch_weight_init)\n",
    "if H.USE_CUDA:\n",
    "    model_pred.cuda()\n",
    "    \n",
    "state = torch.load(os.path.join(H.EXPERIMENT, H.PRELOAD_MODEL_PATH))\n",
    "model_pred.load_state_dict(state)   \n",
    "\n",
    "ctc_decoder = CTCGreedyDecoder(vocab)\n",
    "# ctc_decoder = CTCBeamSearchDecoder(vocab, lm_path=None, alpha=0, beta=0, cutoff_top_n=40, cutoff_prob=1.0, \n",
    "#                                    beam_width=40, num_processes=8, blank_index=0)\n"
   ]
  },
  {
   "cell_type": "code",
   "execution_count": null,
   "metadata": {},
   "outputs": [],
   "source": [
    "audio_transform = transforms.Compose([\n",
    "                AudioNormalizeDB(db=H.NORMALIZE_DB, \n",
    "                                 max_gain_db=H.NORMALIZE_MAX_GAIN),\n",
    "                AudioSpectrogram(sample_rate=H.AUDIO_SAMPLE_RATE, \n",
    "                                 window_size=H.SPECT_WINDOW_SIZE, \n",
    "                                 window_stride=H.SPECT_WINDOW_STRIDE,\n",
    "                                 window=H.SPECT_WINDOW),\n",
    "                AudioNormalize(),\n",
    "                FromNumpyToTensor(tensor_type=torch.FloatTensor)\n",
    "                ])\n",
    "\n",
    "label_transform = transforms.Compose([\n",
    "                TranscriptEncodeCTC(vocab),\n",
    "                FromNumpyToTensor(tensor_type=torch.IntTensor)\n",
    "                ])"
   ]
  },
  {
   "cell_type": "code",
   "execution_count": null,
   "metadata": {},
   "outputs": [],
   "source": [
    "test_dataset = AudioDataset(os.path.join(H.ROOT_DIR, H.EXPERIMENT), manifests_files=H.MANIFESTS, datasets=\"test\",\n",
    "                            transform=audio_transform, label_transform=label_transform, max_data_size=None, \n",
    "                            sorted_by='recording_duration',\n",
    "                            min_max_duration=H.MIN_MAX_AUDIO_DURATION, min_max_length=H.MIN_MAX_TRANSCRIPT_LEN, \n",
    "                            min_confidence=H.MIN_TRANSCRIPT_CONFIDENCE)\n",
    "\n",
    "test_loader = torch.utils.data.DataLoader(test_dataset, batch_size=H.BATCH_SIZE, num_workers=H.NUM_WORKERS, \n",
    "                                          shuffle=False, collate_fn=collate_fn, pin_memory=True)\n",
    "\n",
    "test_dataset, len(test_loader)"
   ]
  },
  {
   "cell_type": "code",
   "execution_count": null,
   "metadata": {},
   "outputs": [],
   "source": [
    "from torchnlp.metrics import get_moses_multi_bleu\n",
    "\n",
    "recognizer = Recognizer(model_pred, ctc_decoder, test_loader, probabilities=True)\n",
    "\n",
    "hypotheses = recognizer()\n",
    "\n",
    "transcripts = []\n",
    "for _, label_vars, _, label_sizes,_ in test_loader:\n",
    "    label_seq = ctc_decoder.decode_labels(label_vars, label_sizes, vocab)   \n",
    "    transcripts.extend(label_seq )"
   ]
  },
  {
   "cell_type": "code",
   "execution_count": null,
   "metadata": {},
   "outputs": [],
   "source": [
    "hypotheses[0:5]"
   ]
  },
  {
   "cell_type": "code",
   "execution_count": null,
   "metadata": {},
   "outputs": [],
   "source": [
    "lines = 0\n",
    "bad_lines = []\n",
    "for dseq_probas, tseq in zip(hypotheses, transcripts):\n",
    "    dseq, proba = dseq_probas\n",
    "    lines += 1\n",
    "    if sum([d!=t for d,t in zip (dseq, tseq)]):\n",
    "        bad_lines.append((dseq, tseq, proba))\n",
    "\n",
    "print('Test Summary \\n'\n",
    "      'Total Lines:   {lines:.3f}\\n'\n",
    "      'None Matches:  {bad_lines:.3f}\\n'\n",
    "      'Percent:       {acc:.3f}\\n'.format(lines=lines, \n",
    "                                          bad_lines=len(bad_lines), \n",
    "                                          acc=100 -(float(len(bad_lines))/lines*100)))"
   ]
  },
  {
   "cell_type": "code",
   "execution_count": null,
   "metadata": {},
   "outputs": [],
   "source": [
    "for b in bad_lines[0:60]:\n",
    "    if b[2] > 0.95:\n",
    "        print(b[0],\"|\", b[1].strip(), \"(\"+ str(b[2]) +\")\")"
   ]
  },
  {
   "cell_type": "code",
   "execution_count": null,
   "metadata": {},
   "outputs": [],
   "source": [
    "confidence = sorted([entry[1] for entry in hypotheses], reverse=True)"
   ]
  },
  {
   "cell_type": "code",
   "execution_count": null,
   "metadata": {},
   "outputs": [],
   "source": [
    "import math\n",
    "\n",
    "fig = plt.figure(figsize=(15, 6))\n",
    "ax = fig.add_subplot(1, 1, 1)\n",
    "\n",
    "ax = plt.hist(confidence)\n",
    "\n",
    "plt.xlabel('Confidence')\n",
    "plt.ylabel('Frequency')\n",
    "plt.title(\"Transcript Confidence Distribution\")\n",
    "plt.xticks(rotation=90)\n",
    "plt.grid(True);"
   ]
  },
  {
   "cell_type": "code",
   "execution_count": null,
   "metadata": {},
   "outputs": [],
   "source": [
    "PRELOAD_MODEL_PATH = 'AN4_CTC_deepspeech2_no_augmentation.tar'"
   ]
  },
  {
   "cell_type": "code",
   "execution_count": null,
   "metadata": {},
   "outputs": [],
   "source": [
    "model_pred = DeepSpeech2(len(vocab), rnn_hidden_size=H.RNN_HIDDEN_SIZE, nb_layers=H.NUM_LAYERS, \n",
    "                       bidirectional=H.BIDIRECTIONAL, cnn_dropout=H.CNN_DROPOUT, rnn_dropout=H.RNN_DROPOUT, \n",
    "                       sample_rate=H.AUDIO_SAMPLE_RATE, window_size=H.SPECT_WINDOW_SIZE, initialize=torch_weight_init)\n",
    "if H.USE_CUDA:\n",
    "    model_pred.cuda()\n",
    "    \n",
    "state = torch.load(os.path.join(H.EXPERIMENT, PRELOAD_MODEL_PATH))\n",
    "model_pred.load_state_dict(state)   \n",
    "\n",
    "ctc_decoder = CTCGreedyDecoder(vocab)\n",
    "# ctc_decoder = CTCBeamSearchDecoder(vocab, lm_path=None, alpha=0, beta=0, cutoff_top_n=40, cutoff_prob=1.0, \n",
    "#                                    beam_width=40, num_processes=8, blank_index=0)\n"
   ]
  },
  {
   "cell_type": "code",
   "execution_count": null,
   "metadata": {},
   "outputs": [],
   "source": [
    "test_path = './data/AN4/test/wav/*.wav'\n",
    "\n",
    "import glob\n",
    "audio_files = glob.glob(test_path)\n",
    "\n",
    "len(audio_files)"
   ]
  },
  {
   "cell_type": "code",
   "execution_count": null,
   "metadata": {},
   "outputs": [],
   "source": [
    "audio_transform = transforms.Compose([\n",
    "                AudioNormalizeDB(db=H.NORMALIZE_DB, \n",
    "                                 max_gain_db=H.NORMALIZE_MAX_GAIN),\n",
    "                AudioSpectrogram(sample_rate=H.AUDIO_SAMPLE_RATE, \n",
    "                                 window_size=H.SPECT_WINDOW_SIZE, \n",
    "                                 window_stride=H.SPECT_WINDOW_STRIDE,\n",
    "                                 window=H.SPECT_WINDOW),\n",
    "                AudioNormalize(),\n",
    "                FromNumpyToTensor(tensor_type=torch.FloatTensor)\n",
    "                ])\n",
    "\n",
    "dummy_dataset = DummyDataset(audio_files, H.AUDIO_SAMPLE_RATE, vocab, transform=audio_transform)\n",
    "\n",
    "dummy_loader = torch.utils.data.DataLoader(dummy_dataset, batch_size=H.BATCH_SIZE, \n",
    "                                           num_workers=H.NUM_WORKERS, shuffle=False, \n",
    "                                           collate_fn=dummy_collate_fn, pin_memory=True)\n",
    "\n",
    "recognizer = Recognizer(model_pred, ctc_decoder, dummy_loader, probabilities=True)\n",
    "\n",
    "hypotheses = recognizer()"
   ]
  },
  {
   "cell_type": "code",
   "execution_count": null,
   "metadata": {},
   "outputs": [],
   "source": [
    "idxs = []\n",
    "for data in dummy_loader:\n",
    "    idxs.extend(data[2])    \n",
    "    \n",
    "audio=[]\n",
    "for i in idxs:\n",
    "    audio.append(dummy_dataset.audio_files[i])\n",
    "      \n",
    "len(hypotheses), len(audio)"
   ]
  },
  {
   "cell_type": "code",
   "execution_count": null,
   "metadata": {},
   "outputs": [],
   "source": [
    "hypotheses[0:4]"
   ]
  },
  {
   "cell_type": "code",
   "execution_count": null,
   "metadata": {},
   "outputs": [],
   "source": [
    "root_path = os.path.join('.', H.ROOT_DIR, H.EXPERIMENT)\n",
    "\n",
    "create_pseudo_manifest(root_path, audio, hypotheses, manifest_file='manifest_pseudo.json')"
   ]
  },
  {
   "cell_type": "code",
   "execution_count": null,
   "metadata": {},
   "outputs": [],
   "source": [
    "MIN_TRANSCRIPT_CONFIDENCE = 0.92"
   ]
  },
  {
   "cell_type": "code",
   "execution_count": null,
   "metadata": {},
   "outputs": [],
   "source": [
    "pseudo_dataset = AudioDataset(os.path.join(H.ROOT_DIR, H.EXPERIMENT), \n",
    "                              manifests_files='manifest_pseudo.json', datasets=\"pseudo\", \n",
    "                              transform=audio_transform_train, label_transform=label_transform, \n",
    "                              max_data_size=None, sorted_by='recording_duration',\n",
    "                              min_confidence=MIN_TRANSCRIPT_CONFIDENCE)\n",
    "\n",
    "\n",
    "pseudo_sampler = BucketingSampler(pseudo_dataset, batch_size=H.BATCH_SIZE)\n",
    "pseudo_loader = torch.utils.data.DataLoader(pseudo_dataset, num_workers=H.NUM_WORKERS, \n",
    "                                            batch_sampler=pseudo_sampler, collate_fn=collate_fn, pin_memory=True)\n",
    "\n",
    "pseudo_dataset, len(pseudo_loader)"
   ]
  },
  {
   "cell_type": "code",
   "execution_count": null,
   "metadata": {},
   "outputs": [],
   "source": [
    "for idx, (input_vars, label_vars, input_percentages_cpu, label_sizes_cpu, indexes) in enumerate(pseudo_loader):\n",
    "    input_vars_cpu = Variable(input_vars).cpu()\n",
    "    label_vars_cpu = Variable(label_vars).cpu()\n",
    "    break"
   ]
  },
  {
   "cell_type": "code",
   "execution_count": null,
   "metadata": {},
   "outputs": [],
   "source": [
    "''.join([vocab(t.item()) for t in label_vars_cpu[0]])"
   ]
  },
  {
   "cell_type": "code",
   "execution_count": null,
   "metadata": {},
   "outputs": [],
   "source": [
    "load_transcript(pseudo_dataset.manifest[indexes[0]]['transcript_path'])"
   ]
  },
  {
   "cell_type": "code",
   "execution_count": null,
   "metadata": {},
   "outputs": [],
   "source": [
    "sr = H.AUDIO_SAMPLE_RATE\n",
    "data = load_audio(pseudo_dataset.manifest[indexes[0]]['recording_path'], sr)"
   ]
  },
  {
   "cell_type": "code",
   "execution_count": null,
   "metadata": {},
   "outputs": [],
   "source": [
    "from scipy.io import wavfile\n",
    "\n",
    "plot_wave(data, sr)\n",
    "\n",
    "print(type(data), data.shape, len(data), sr)\n",
    "\n",
    "import IPython.display as ipd\n",
    "ipd.Audio(data, rate=sr)"
   ]
  },
  {
   "cell_type": "code",
   "execution_count": null,
   "metadata": {},
   "outputs": [],
   "source": [
    "confidence = sorted([entry['transcript_confidence'] for entry in pseudo_dataset.manifest], reverse=True)"
   ]
  },
  {
   "cell_type": "code",
   "execution_count": null,
   "metadata": {},
   "outputs": [],
   "source": [
    "import math\n",
    "\n",
    "fig = plt.figure(figsize=(15, 6))\n",
    "ax = fig.add_subplot(1, 1, 1)\n",
    "\n",
    "ax = plt.hist(confidence)\n",
    "\n",
    "plt.xlabel('Confidence')\n",
    "plt.ylabel('Frequency')\n",
    "plt.title(\"Transcript Confidence Distribution\")\n",
    "plt.xticks(rotation=90)\n",
    "plt.grid(True);"
   ]
  },
  {
   "cell_type": "code",
   "execution_count": null,
   "metadata": {},
   "outputs": [],
   "source": []
  },
  {
   "cell_type": "code",
   "execution_count": null,
   "metadata": {},
   "outputs": [],
   "source": []
  }
 ],
 "metadata": {
  "kernelspec": {
   "display_name": "Python 3",
   "language": "python",
   "name": "python3"
  },
  "language_info": {
   "codemirror_mode": {
    "name": "ipython",
    "version": 3
   },
   "file_extension": ".py",
   "mimetype": "text/x-python",
   "name": "python",
   "nbconvert_exporter": "python",
   "pygments_lexer": "ipython3",
   "version": "3.6.4"
  }
 },
 "nbformat": 4,
 "nbformat_minor": 2
}
